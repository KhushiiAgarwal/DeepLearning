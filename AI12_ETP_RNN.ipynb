{
  "nbformat": 4,
  "nbformat_minor": 0,
  "metadata": {
    "colab": {
      "name": "AI_ETP_RNN.ipynb",
      "provenance": []
    },
    "kernelspec": {
      "name": "python3",
      "display_name": "Python 3"
    },
    "language_info": {
      "name": "python"
    }
  },
  "cells": [
    {
      "cell_type": "markdown",
      "source": [
        ""
      ],
      "metadata": {
        "id": "DyVC9IOoyZ_M"
      }
    },
    {
      "cell_type": "markdown",
      "source": [
        "#Long Short-Term Memory Network\n",
        "The Long Short-Term Memory network, or LSTM network, is a recurrent neural network trained using Backpropagation Through Time that overcomes the vanishing gradient problem.\n",
        "There are three types of gates within a unit:\n",
        "\n",
        "###Forget Gate: conditionally decides what information to throw away from the block\n",
        "###Input Gate: conditionally decides which values from the input to update the memory state\n",
        "###Output Gate: conditionally decides what to output based on input and the memory of the block"
      ],
      "metadata": {
        "id": "12A_rPSKHlti"
      }
    },
    {
      "cell_type": "code",
      "execution_count": null,
      "metadata": {
        "id": "B4rUlZtFmWO3"
      },
      "outputs": [],
      "source": [
        "# LSTM for international airline passengers problem with time step regression framing\n",
        "import numpy as np\n",
        "import matplotlib.pyplot as plt\n",
        "from pandas import read_csv\n",
        "import tensorflow as tf\n",
        "from tensorflow.keras.models import Sequential\n",
        "from tensorflow.keras.layers import Dense\n",
        "from tensorflow.keras.layers import LSTM\n",
        "from sklearn.preprocessing import MinMaxScaler\n",
        "from sklearn.metrics import mean_squared_error"
      ]
    },
    {
      "cell_type": "code",
      "source": [
        "# load the dataset\n",
        "dataframe = read_csv('airline-passengers.csv', usecols=[1], engine='python')\n",
        "dataset = dataframe.values\n",
        "dataset = dataset.astype('float32')"
      ],
      "metadata": {
        "id": "D_h3eHXerWar"
      },
      "execution_count": null,
      "outputs": []
    },
    {
      "cell_type": "markdown",
      "source": [
        "The function takes two arguments: the dataset, which is a NumPy array you want to convert into a dataset, and the look_back, which is the number of previous time steps to use as input variables to predict the next time period—in this case, defaulted to 1.\n",
        "\n",
        "This default will create a dataset where X is the number of passengers at a given time (t), and Y is the number of passengers at the next time (t + 1)."
      ],
      "metadata": {
        "id": "tvucnCs1I5Np"
      }
    },
    {
      "cell_type": "code",
      "source": [
        "# convert an array of values into a dataset matrix\n",
        "def create_dataset(dataset, look_back=1):\n",
        "\tdataX, dataY = [], []\n",
        "\tfor i in range(len(dataset)-look_back-1):\n",
        "\t\ta = dataset[i:(i+look_back), 0]\n",
        "\t\tdataX.append(a)\n",
        "\t\tdataY.append(dataset[i + look_back, 0])\n",
        "\treturn np.array(dataX), np.array(dataY)\n",
        " # fix random seed for reproducibility\n",
        "tf.random.set_seed(7)"
      ],
      "metadata": {
        "id": "CVlKbVG7q_lI"
      },
      "execution_count": null,
      "outputs": []
    },
    {
      "cell_type": "markdown",
      "source": [
        "# Training Data"
      ],
      "metadata": {
        "id": "nF3BiU-M5SbI"
      }
    },
    {
      "cell_type": "code",
      "source": [
        "# normalize the dataset\n",
        "scaler = MinMaxScaler(feature_range=(0, 1))\n",
        "dataset = scaler.fit_transform(dataset)"
      ],
      "metadata": {
        "id": "oBKsYbZ6rjnt"
      },
      "execution_count": null,
      "outputs": []
    },
    {
      "cell_type": "code",
      "source": [
        "# split into train and test sets\n",
        "train_size = int(len(dataset) * 0.67)\n",
        "test_size = len(dataset) - train_size\n",
        "train, test = dataset[0:train_size,:], dataset[train_size:len(dataset),:]"
      ],
      "metadata": {
        "id": "vz_aeoaJtRIb"
      },
      "execution_count": null,
      "outputs": []
    },
    {
      "cell_type": "code",
      "source": [
        "# reshape into X=t and Y=t+1\n",
        "look_back = 1\n",
        "trainX, trainY = create_dataset(train, look_back)\n",
        "testX, testY = create_dataset(test, look_back)\n",
        "# reshape input to be [samples, time steps, features]\n",
        "trainX = np.reshape(trainX, (trainX.shape[0], 1, trainX.shape[1]))\n",
        "testX = np.reshape(testX, (testX.shape[0], 1, testX.shape[1]))"
      ],
      "metadata": {
        "id": "TaSBIg4ot3m6"
      },
      "execution_count": null,
      "outputs": []
    },
    {
      "cell_type": "markdown",
      "source": [
        "# RNN Modeling\n"
      ],
      "metadata": {
        "id": "C532puhCGwkC"
      }
    },
    {
      "cell_type": "markdown",
      "source": [
        "The network has a visible layer with 1 input, a hidden layer with 4 LSTM blocks or neurons, and an output layer that makes a single value prediction. The default sigmoid activation function is used for the LSTM blocks. The network is trained for 100 epochs, and a batch size of 1 is used."
      ],
      "metadata": {
        "id": "BLYPjGRuItS9"
      }
    },
    {
      "cell_type": "markdown",
      "source": [
        "### LSTM network!"
      ],
      "metadata": {
        "id": "1SjuQUoA5ifw"
      }
    },
    {
      "cell_type": "markdown",
      "source": [
        "An epoch is a term used in machine learning and indicates the number of passes of the entire training dataset the machine learning algorithm has completed"
      ],
      "metadata": {
        "id": "IgjjVtk0KpeT"
      }
    },
    {
      "cell_type": "code",
      "source": [
        "# create and fit the LSTM network\n",
        "model = Sequential()\n",
        "model.add(LSTM(4, input_shape=(1, look_back)))\n",
        "model.add(Dense(1)) #Hidden layer\n",
        "model.compile(loss='mean_squared_error', optimizer='adam')\n",
        "model.fit(trainX, trainY, epochs=100, batch_size=1, verbose=2)#verbose is the choice that how you want to see the output of your Neural Network while it's training. "
      ],
      "metadata": {
        "id": "3To64QQ8FYjP",
        "colab": {
          "base_uri": "https://localhost:8080/"
        },
        "outputId": "573056d4-57e0-4bfb-f8d9-43fbae54a90b"
      },
      "execution_count": null,
      "outputs": [
        {
          "output_type": "stream",
          "name": "stdout",
          "text": [
            "Epoch 1/100\n",
            "94/94 - 2s - loss: 0.0431 - 2s/epoch - 18ms/step\n",
            "Epoch 2/100\n",
            "94/94 - 0s - loss: 0.0229 - 156ms/epoch - 2ms/step\n",
            "Epoch 3/100\n",
            "94/94 - 0s - loss: 0.0163 - 155ms/epoch - 2ms/step\n",
            "Epoch 4/100\n",
            "94/94 - 0s - loss: 0.0148 - 164ms/epoch - 2ms/step\n",
            "Epoch 5/100\n",
            "94/94 - 0s - loss: 0.0140 - 173ms/epoch - 2ms/step\n",
            "Epoch 6/100\n",
            "94/94 - 0s - loss: 0.0130 - 154ms/epoch - 2ms/step\n",
            "Epoch 7/100\n",
            "94/94 - 0s - loss: 0.0121 - 160ms/epoch - 2ms/step\n",
            "Epoch 8/100\n",
            "94/94 - 0s - loss: 0.0112 - 150ms/epoch - 2ms/step\n",
            "Epoch 9/100\n",
            "94/94 - 0s - loss: 0.0104 - 250ms/epoch - 3ms/step\n",
            "Epoch 10/100\n",
            "94/94 - 0s - loss: 0.0094 - 241ms/epoch - 3ms/step\n",
            "Epoch 11/100\n",
            "94/94 - 0s - loss: 0.0084 - 256ms/epoch - 3ms/step\n",
            "Epoch 12/100\n",
            "94/94 - 0s - loss: 0.0074 - 205ms/epoch - 2ms/step\n",
            "Epoch 13/100\n",
            "94/94 - 0s - loss: 0.0066 - 184ms/epoch - 2ms/step\n",
            "Epoch 14/100\n",
            "94/94 - 0s - loss: 0.0057 - 148ms/epoch - 2ms/step\n",
            "Epoch 15/100\n",
            "94/94 - 0s - loss: 0.0050 - 153ms/epoch - 2ms/step\n",
            "Epoch 16/100\n",
            "94/94 - 0s - loss: 0.0043 - 160ms/epoch - 2ms/step\n",
            "Epoch 17/100\n",
            "94/94 - 0s - loss: 0.0037 - 142ms/epoch - 2ms/step\n",
            "Epoch 18/100\n",
            "94/94 - 0s - loss: 0.0032 - 149ms/epoch - 2ms/step\n",
            "Epoch 19/100\n",
            "94/94 - 0s - loss: 0.0029 - 154ms/epoch - 2ms/step\n",
            "Epoch 20/100\n",
            "94/94 - 0s - loss: 0.0026 - 143ms/epoch - 2ms/step\n",
            "Epoch 21/100\n",
            "94/94 - 0s - loss: 0.0024 - 139ms/epoch - 1ms/step\n",
            "Epoch 22/100\n",
            "94/94 - 0s - loss: 0.0022 - 156ms/epoch - 2ms/step\n",
            "Epoch 23/100\n",
            "94/94 - 0s - loss: 0.0021 - 146ms/epoch - 2ms/step\n",
            "Epoch 24/100\n",
            "94/94 - 0s - loss: 0.0020 - 144ms/epoch - 2ms/step\n",
            "Epoch 25/100\n",
            "94/94 - 0s - loss: 0.0021 - 160ms/epoch - 2ms/step\n",
            "Epoch 26/100\n",
            "94/94 - 0s - loss: 0.0020 - 175ms/epoch - 2ms/step\n",
            "Epoch 27/100\n",
            "94/94 - 0s - loss: 0.0020 - 145ms/epoch - 2ms/step\n",
            "Epoch 28/100\n",
            "94/94 - 0s - loss: 0.0020 - 149ms/epoch - 2ms/step\n",
            "Epoch 29/100\n",
            "94/94 - 0s - loss: 0.0021 - 189ms/epoch - 2ms/step\n",
            "Epoch 30/100\n",
            "94/94 - 0s - loss: 0.0020 - 180ms/epoch - 2ms/step\n",
            "Epoch 31/100\n",
            "94/94 - 0s - loss: 0.0020 - 177ms/epoch - 2ms/step\n",
            "Epoch 32/100\n",
            "94/94 - 0s - loss: 0.0021 - 189ms/epoch - 2ms/step\n",
            "Epoch 33/100\n",
            "94/94 - 0s - loss: 0.0021 - 182ms/epoch - 2ms/step\n",
            "Epoch 34/100\n",
            "94/94 - 0s - loss: 0.0020 - 255ms/epoch - 3ms/step\n",
            "Epoch 35/100\n",
            "94/94 - 0s - loss: 0.0021 - 304ms/epoch - 3ms/step\n",
            "Epoch 36/100\n",
            "94/94 - 0s - loss: 0.0020 - 246ms/epoch - 3ms/step\n",
            "Epoch 37/100\n",
            "94/94 - 0s - loss: 0.0020 - 324ms/epoch - 3ms/step\n",
            "Epoch 38/100\n",
            "94/94 - 0s - loss: 0.0020 - 280ms/epoch - 3ms/step\n",
            "Epoch 39/100\n",
            "94/94 - 0s - loss: 0.0020 - 315ms/epoch - 3ms/step\n",
            "Epoch 40/100\n",
            "94/94 - 0s - loss: 0.0020 - 290ms/epoch - 3ms/step\n",
            "Epoch 41/100\n",
            "94/94 - 0s - loss: 0.0020 - 451ms/epoch - 5ms/step\n",
            "Epoch 42/100\n",
            "94/94 - 0s - loss: 0.0020 - 272ms/epoch - 3ms/step\n",
            "Epoch 43/100\n",
            "94/94 - 0s - loss: 0.0020 - 457ms/epoch - 5ms/step\n",
            "Epoch 44/100\n",
            "94/94 - 0s - loss: 0.0020 - 304ms/epoch - 3ms/step\n",
            "Epoch 45/100\n",
            "94/94 - 0s - loss: 0.0021 - 291ms/epoch - 3ms/step\n",
            "Epoch 46/100\n",
            "94/94 - 0s - loss: 0.0019 - 308ms/epoch - 3ms/step\n",
            "Epoch 47/100\n",
            "94/94 - 0s - loss: 0.0020 - 318ms/epoch - 3ms/step\n",
            "Epoch 48/100\n",
            "94/94 - 0s - loss: 0.0021 - 359ms/epoch - 4ms/step\n",
            "Epoch 49/100\n",
            "94/94 - 0s - loss: 0.0020 - 306ms/epoch - 3ms/step\n",
            "Epoch 50/100\n",
            "94/94 - 0s - loss: 0.0020 - 170ms/epoch - 2ms/step\n",
            "Epoch 51/100\n",
            "94/94 - 0s - loss: 0.0020 - 153ms/epoch - 2ms/step\n",
            "Epoch 52/100\n",
            "94/94 - 0s - loss: 0.0020 - 169ms/epoch - 2ms/step\n",
            "Epoch 53/100\n",
            "94/94 - 0s - loss: 0.0020 - 140ms/epoch - 1ms/step\n",
            "Epoch 54/100\n",
            "94/94 - 0s - loss: 0.0020 - 151ms/epoch - 2ms/step\n",
            "Epoch 55/100\n",
            "94/94 - 0s - loss: 0.0020 - 145ms/epoch - 2ms/step\n",
            "Epoch 56/100\n",
            "94/94 - 0s - loss: 0.0020 - 188ms/epoch - 2ms/step\n",
            "Epoch 57/100\n",
            "94/94 - 0s - loss: 0.0020 - 168ms/epoch - 2ms/step\n",
            "Epoch 58/100\n",
            "94/94 - 0s - loss: 0.0020 - 156ms/epoch - 2ms/step\n",
            "Epoch 59/100\n",
            "94/94 - 0s - loss: 0.0020 - 151ms/epoch - 2ms/step\n",
            "Epoch 60/100\n",
            "94/94 - 0s - loss: 0.0020 - 155ms/epoch - 2ms/step\n",
            "Epoch 61/100\n",
            "94/94 - 0s - loss: 0.0020 - 147ms/epoch - 2ms/step\n",
            "Epoch 62/100\n",
            "94/94 - 0s - loss: 0.0021 - 157ms/epoch - 2ms/step\n",
            "Epoch 63/100\n",
            "94/94 - 0s - loss: 0.0020 - 145ms/epoch - 2ms/step\n",
            "Epoch 64/100\n",
            "94/94 - 0s - loss: 0.0020 - 151ms/epoch - 2ms/step\n",
            "Epoch 65/100\n",
            "94/94 - 0s - loss: 0.0020 - 155ms/epoch - 2ms/step\n",
            "Epoch 66/100\n",
            "94/94 - 0s - loss: 0.0020 - 162ms/epoch - 2ms/step\n",
            "Epoch 67/100\n",
            "94/94 - 0s - loss: 0.0021 - 154ms/epoch - 2ms/step\n",
            "Epoch 68/100\n",
            "94/94 - 0s - loss: 0.0020 - 152ms/epoch - 2ms/step\n",
            "Epoch 69/100\n",
            "94/94 - 0s - loss: 0.0020 - 164ms/epoch - 2ms/step\n",
            "Epoch 70/100\n",
            "94/94 - 0s - loss: 0.0020 - 158ms/epoch - 2ms/step\n",
            "Epoch 71/100\n",
            "94/94 - 0s - loss: 0.0020 - 154ms/epoch - 2ms/step\n",
            "Epoch 72/100\n",
            "94/94 - 0s - loss: 0.0020 - 142ms/epoch - 2ms/step\n",
            "Epoch 73/100\n",
            "94/94 - 0s - loss: 0.0020 - 153ms/epoch - 2ms/step\n",
            "Epoch 74/100\n",
            "94/94 - 0s - loss: 0.0021 - 148ms/epoch - 2ms/step\n",
            "Epoch 75/100\n",
            "94/94 - 0s - loss: 0.0020 - 187ms/epoch - 2ms/step\n",
            "Epoch 76/100\n",
            "94/94 - 0s - loss: 0.0020 - 155ms/epoch - 2ms/step\n",
            "Epoch 77/100\n",
            "94/94 - 0s - loss: 0.0019 - 159ms/epoch - 2ms/step\n",
            "Epoch 78/100\n",
            "94/94 - 0s - loss: 0.0020 - 147ms/epoch - 2ms/step\n",
            "Epoch 79/100\n",
            "94/94 - 0s - loss: 0.0020 - 158ms/epoch - 2ms/step\n",
            "Epoch 80/100\n",
            "94/94 - 0s - loss: 0.0020 - 149ms/epoch - 2ms/step\n",
            "Epoch 81/100\n",
            "94/94 - 0s - loss: 0.0019 - 142ms/epoch - 2ms/step\n",
            "Epoch 82/100\n",
            "94/94 - 0s - loss: 0.0021 - 149ms/epoch - 2ms/step\n",
            "Epoch 83/100\n",
            "94/94 - 0s - loss: 0.0020 - 147ms/epoch - 2ms/step\n",
            "Epoch 84/100\n",
            "94/94 - 0s - loss: 0.0019 - 148ms/epoch - 2ms/step\n",
            "Epoch 85/100\n",
            "94/94 - 0s - loss: 0.0020 - 145ms/epoch - 2ms/step\n",
            "Epoch 86/100\n",
            "94/94 - 0s - loss: 0.0020 - 149ms/epoch - 2ms/step\n",
            "Epoch 87/100\n",
            "94/94 - 0s - loss: 0.0021 - 140ms/epoch - 1ms/step\n",
            "Epoch 88/100\n",
            "94/94 - 0s - loss: 0.0020 - 154ms/epoch - 2ms/step\n",
            "Epoch 89/100\n",
            "94/94 - 0s - loss: 0.0020 - 152ms/epoch - 2ms/step\n",
            "Epoch 90/100\n",
            "94/94 - 0s - loss: 0.0020 - 151ms/epoch - 2ms/step\n",
            "Epoch 91/100\n",
            "94/94 - 0s - loss: 0.0020 - 140ms/epoch - 1ms/step\n",
            "Epoch 92/100\n",
            "94/94 - 0s - loss: 0.0020 - 173ms/epoch - 2ms/step\n",
            "Epoch 93/100\n",
            "94/94 - 0s - loss: 0.0020 - 153ms/epoch - 2ms/step\n",
            "Epoch 94/100\n",
            "94/94 - 0s - loss: 0.0020 - 149ms/epoch - 2ms/step\n",
            "Epoch 95/100\n",
            "94/94 - 0s - loss: 0.0021 - 153ms/epoch - 2ms/step\n",
            "Epoch 96/100\n",
            "94/94 - 0s - loss: 0.0020 - 155ms/epoch - 2ms/step\n",
            "Epoch 97/100\n",
            "94/94 - 0s - loss: 0.0020 - 155ms/epoch - 2ms/step\n",
            "Epoch 98/100\n",
            "94/94 - 0s - loss: 0.0020 - 145ms/epoch - 2ms/step\n",
            "Epoch 99/100\n",
            "94/94 - 0s - loss: 0.0020 - 160ms/epoch - 2ms/step\n",
            "Epoch 100/100\n",
            "94/94 - 0s - loss: 0.0020 - 148ms/epoch - 2ms/step\n"
          ]
        },
        {
          "output_type": "execute_result",
          "data": {
            "text/plain": [
              "<keras.callbacks.History at 0x7fb850958bd0>"
            ]
          },
          "metadata": {},
          "execution_count": 22
        }
      ]
    },
    {
      "cell_type": "markdown",
      "source": [
        "#Prediction\n"
      ],
      "metadata": {
        "id": "4xvyCU3XIYg6"
      }
    },
    {
      "cell_type": "code",
      "source": [
        "# make predictions\n",
        "trainPredict = model.predict(trainX)\n",
        "testPredict = model.predict(testX)"
      ],
      "metadata": {
        "id": "GoNZjE7AGzIk"
      },
      "execution_count": null,
      "outputs": []
    },
    {
      "cell_type": "code",
      "source": [
        "# invert predictions\n",
        "trainPredict = scaler.inverse_transform(trainPredict)\n",
        "trainY = scaler.inverse_transform([trainY])\n",
        "testPredict = scaler.inverse_transform(testPredict)\n",
        "testY = scaler.inverse_transform([testY])"
      ],
      "metadata": {
        "id": "NluNOoN5IXms"
      },
      "execution_count": null,
      "outputs": []
    },
    {
      "cell_type": "code",
      "source": [
        "# calculate root mean squared error\n",
        "trainScore = np.sqrt(mean_squared_error(trainY[0], trainPredict[:,0]))\n",
        "print('Train Score: %.2f RMSE' % (trainScore))\n",
        "testScore = np.sqrt(mean_squared_error(testY[0], testPredict[:,0]))\n",
        "print('Test Score: %.2f RMSE' % (testScore))"
      ],
      "metadata": {
        "colab": {
          "base_uri": "https://localhost:8080/"
        },
        "id": "Jgjq7OGYOC8c",
        "outputId": "c2903c34-4e1e-4169-e41c-5825cd480bde"
      },
      "execution_count": null,
      "outputs": [
        {
          "output_type": "stream",
          "name": "stdout",
          "text": [
            "Train Score: 22.68 RMSE\n",
            "Test Score: 49.34 RMSE\n"
          ]
        }
      ]
    },
    {
      "cell_type": "markdown",
      "source": [
        "## Prediction & Plotting"
      ],
      "metadata": {
        "id": "_xk-E_bIZ4-B"
      }
    },
    {
      "cell_type": "code",
      "source": [
        "# shift train predictions for plotting\n",
        "trainPredictPlot = np.empty_like(dataset)\n",
        "trainPredictPlot[:, :] = np.nan\n",
        "trainPredictPlot[look_back:len(trainPredict)+look_back, :] = trainPredict"
      ],
      "metadata": {
        "id": "_0sgkwWW-p7y"
      },
      "execution_count": null,
      "outputs": []
    },
    {
      "cell_type": "code",
      "source": [
        "# shift test predictions for plotting\n",
        "testPredictPlot = np.empty_like(dataset)\n",
        "testPredictPlot[:, :] = np.nan\n",
        "testPredictPlot[len(trainPredict)+(look_back*2)+1:len(dataset)-1, :] = testPredict"
      ],
      "metadata": {
        "id": "7ykThRbrZ-mM"
      },
      "execution_count": null,
      "outputs": []
    },
    {
      "cell_type": "code",
      "source": [
        "# plot baseline and predictions\n",
        "plt.plot(scaler.inverse_transform(dataset))\n",
        "plt.plot(trainPredictPlot)\n",
        "plt.plot(testPredictPlot)\n",
        "plt.legend(\"Upper Left\")\n",
        "plt.show()"
      ],
      "metadata": {
        "id": "xYERQEopZ_hO",
        "colab": {
          "base_uri": "https://localhost:8080/",
          "height": 265
        },
        "outputId": "ca7535c6-4cf1-4524-9581-9a68d050f4ec"
      },
      "execution_count": null,
      "outputs": [
        {
          "output_type": "display_data",
          "data": {
            "text/plain": [
              "<Figure size 432x288 with 1 Axes>"
            ],
            "image/png": "[encoded data removed]"
          },
          "metadata": {
            "needs_background": "light"
          }
        }
      ]
    },
    {
      "cell_type": "markdown",
      "source": [
        "You can see that the model has an average error of about 23 passengers (in thousands) on the training dataset and about 49 passengers (in thousands) on the test dataset. "
      ],
      "metadata": {
        "id": "kJXWf7OvR0uh"
      }
    }
  ]
}